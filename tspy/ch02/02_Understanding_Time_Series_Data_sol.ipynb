{
 "cells": [
  {
   "cell_type": "markdown",
   "metadata": {
    "deletable": true,
    "editable": true
   },
   "source": [
    "# Chapter 2: Understanding Time Series Data"
   ]
  },
  {
   "cell_type": "markdown",
   "metadata": {
    "deletable": true,
    "editable": true
   },
   "source": [
    "* 싸이그래머 / 파이모션 : Moment - 파이썬을 이용한 시계열 분석 기초 [1]\n",
    "* 김무성"
   ]
  },
  {
   "cell_type": "markdown",
   "metadata": {
    "deletable": true,
    "editable": true
   },
   "source": [
    "# Contents\n",
    "* Advanced processing and visualization of time series data\n",
    "* Resampling time series data\n",
    "    - Group wise aggregation\n",
    "    - Moving statistics\n",
    "* Stationary processes\n",
    "    - Differencing\n",
    "        - First-order differencing \n",
    "        - Second-order differencing\n",
    "        - Seasonal differencing\n",
    "    - Augmented Dickey-Fuller test \n",
    "* Time series decomposition\n",
    "    - Moving averages\n",
    "        - Moving averages and their smoothing effect \n",
    "        - Seasonal adjustment using moving average\n",
    "        - Weighted moving average \n",
    "* Time series decomposition using moving averages \n",
    "* Time series decomposition using statsmodels.tsa \n",
    "* Summary"
   ]
  },
  {
   "cell_type": "markdown",
   "metadata": {
    "deletable": true,
    "editable": true
   },
   "source": [
    "# Advanced processing and visualization of time series data"
   ]
  },
  {
   "cell_type": "markdown",
   "metadata": {},
   "source": [
    "<img src=\"figures/cap01.png\" width=600 />"
   ]
  },
  {
   "cell_type": "markdown",
   "metadata": {
    "deletable": true,
    "editable": true
   },
   "source": [
    "# Resampling time series data\n",
    "* Group wise aggregation\n",
    "* Moving statistics"
   ]
  },
  {
   "cell_type": "code",
   "execution_count": 1,
   "metadata": {
    "collapsed": true,
    "deletable": true,
    "editable": true
   },
   "outputs": [],
   "source": [
    "import os\n",
    "import pandas as pd\n",
    "import numpy as np\n",
    "%matplotlib inline\n",
    "from matplotlib import pyplot as plt\n",
    "import seaborn as sns"
   ]
  },
  {
   "cell_type": "code",
   "execution_count": 1,
   "metadata": {
    "collapsed": false,
    "deletable": true,
    "editable": true
   },
   "outputs": [
    {
     "name": "stdout",
     "output_type": "stream",
     "text": [
      "02_Understanding_Time_Series_Data.ipynb  figures\r\n"
     ]
    }
   ],
   "source": [
    "!ls"
   ]
  },
  {
   "cell_type": "code",
   "execution_count": 2,
   "metadata": {
    "collapsed": false,
    "deletable": true,
    "editable": true
   },
   "outputs": [
    {
     "name": "stdout",
     "output_type": "stream",
     "text": [
      "ch01  ch02  docker  Practical-Time-Series-Analysis\r\n"
     ]
    }
   ],
   "source": [
    "!ls ../"
   ]
  },
  {
   "cell_type": "code",
   "execution_count": 3,
   "metadata": {
    "collapsed": false,
    "deletable": true,
    "editable": true
   },
   "outputs": [
    {
     "name": "stdout",
     "output_type": "stream",
     "text": [
      "Chapter01  Chapter03  Chapter05   LICENSE\r\n",
      "Chapter02  Chapter04  Data Files  README.md\r\n"
     ]
    }
   ],
   "source": [
    "!ls ../Practical-Time-Series-Analysis/"
   ]
  },
  {
   "cell_type": "code",
   "execution_count": 4,
   "metadata": {
    "collapsed": false,
    "deletable": true,
    "editable": true
   },
   "outputs": [
    {
     "name": "stdout",
     "output_type": "stream",
     "text": [
      "Annual_Number_of_Lynx_trapped.csv\r\n",
      "chemical-concentration-readings.csv\r\n",
      "Data Files\r\n",
      "DJIA_Jan2016_Dec2016.xlsx\r\n",
      "DJIA_May2016_May2017.csv\r\n",
      "ibm-common-stock-closing-prices.csv\r\n",
      "inflation-consumer-prices-annual.xlsx\r\n",
      "mean-daily-temperature-fisher-river.csv\r\n",
      "mean-daily-temperature-fisher-river.xlsx\r\n",
      "Monthly_CO2_Concentrations.xlsx\r\n",
      "monthly-mean-thickness-dobson-un.csv\r\n",
      "monthly-sunspot-number-zurich-17.csv\r\n",
      "PRSA_data_2010.1.1-2014.12.31.csv\r\n",
      "quarterly-beer-production-in-aus-March 1956-June 1994.csv\r\n",
      "us-airlines-monthly-aircraft-miles-flown.csv\r\n",
      "wisconsin-employment-time-series.csv\r\n",
      "World Bank Mobile Phone Statistics.xlsx\r\n"
     ]
    }
   ],
   "source": [
    "!ls ../Practical-Time-Series-Analysis/Data\\ Files"
   ]
  },
  {
   "cell_type": "code",
   "execution_count": 8,
   "metadata": {
    "collapsed": true,
    "deletable": true,
    "editable": true
   },
   "outputs": [],
   "source": [
    "data_path = \"../Practical-Time-Series-Analysis/Data Files\"\n",
    "fn = 'chemical-concentration-readings.csv'"
   ]
  },
  {
   "cell_type": "code",
   "execution_count": 9,
   "metadata": {
    "collapsed": false,
    "deletable": true,
    "editable": true
   },
   "outputs": [],
   "source": [
    "df = pd.read_csv(os.path.join(data_path, fn))"
   ]
  },
  {
   "cell_type": "code",
   "execution_count": 10,
   "metadata": {
    "collapsed": false,
    "deletable": true,
    "editable": true
   },
   "outputs": [
    {
     "name": "stdout",
     "output_type": "stream",
     "text": [
      "Shape of the dataset: (197, 2)\n"
     ]
    }
   ],
   "source": [
    "print('Shape of the dataset:', df.shape)"
   ]
  },
  {
   "cell_type": "code",
   "execution_count": 11,
   "metadata": {
    "collapsed": false,
    "deletable": true,
    "editable": true
   },
   "outputs": [
    {
     "data": {
      "text/html": [
       "<div>\n",
       "<style scoped>\n",
       "    .dataframe tbody tr th:only-of-type {\n",
       "        vertical-align: middle;\n",
       "    }\n",
       "\n",
       "    .dataframe tbody tr th {\n",
       "        vertical-align: top;\n",
       "    }\n",
       "\n",
       "    .dataframe thead th {\n",
       "        text-align: right;\n",
       "    }\n",
       "</style>\n",
       "<table border=\"1\" class=\"dataframe\">\n",
       "  <thead>\n",
       "    <tr style=\"text-align: right;\">\n",
       "      <th></th>\n",
       "      <th>Timestamp</th>\n",
       "      <th>Chemical conc.</th>\n",
       "    </tr>\n",
       "  </thead>\n",
       "  <tbody>\n",
       "    <tr>\n",
       "      <th>0</th>\n",
       "      <td>1975-01-01 00:00:00</td>\n",
       "      <td>17.0</td>\n",
       "    </tr>\n",
       "    <tr>\n",
       "      <th>1</th>\n",
       "      <td>1975-01-01 02:00:00</td>\n",
       "      <td>16.6</td>\n",
       "    </tr>\n",
       "    <tr>\n",
       "      <th>2</th>\n",
       "      <td>1975-01-01 04:00:00</td>\n",
       "      <td>16.3</td>\n",
       "    </tr>\n",
       "    <tr>\n",
       "      <th>3</th>\n",
       "      <td>1975-01-01 06:00:00</td>\n",
       "      <td>16.1</td>\n",
       "    </tr>\n",
       "    <tr>\n",
       "      <th>4</th>\n",
       "      <td>1975-01-01 08:00:00</td>\n",
       "      <td>17.1</td>\n",
       "    </tr>\n",
       "    <tr>\n",
       "      <th>5</th>\n",
       "      <td>1975-01-01 10:00:00</td>\n",
       "      <td>16.9</td>\n",
       "    </tr>\n",
       "    <tr>\n",
       "      <th>6</th>\n",
       "      <td>1975-01-01 12:00:00</td>\n",
       "      <td>16.8</td>\n",
       "    </tr>\n",
       "    <tr>\n",
       "      <th>7</th>\n",
       "      <td>1975-01-01 14:00:00</td>\n",
       "      <td>17.4</td>\n",
       "    </tr>\n",
       "    <tr>\n",
       "      <th>8</th>\n",
       "      <td>1975-01-01 16:00:00</td>\n",
       "      <td>17.1</td>\n",
       "    </tr>\n",
       "    <tr>\n",
       "      <th>9</th>\n",
       "      <td>1975-01-01 18:00:00</td>\n",
       "      <td>17.0</td>\n",
       "    </tr>\n",
       "  </tbody>\n",
       "</table>\n",
       "</div>"
      ],
      "text/plain": [
       "             Timestamp  Chemical conc.\n",
       "0  1975-01-01 00:00:00            17.0\n",
       "1  1975-01-01 02:00:00            16.6\n",
       "2  1975-01-01 04:00:00            16.3\n",
       "3  1975-01-01 06:00:00            16.1\n",
       "4  1975-01-01 08:00:00            17.1\n",
       "5  1975-01-01 10:00:00            16.9\n",
       "6  1975-01-01 12:00:00            16.8\n",
       "7  1975-01-01 14:00:00            17.4\n",
       "8  1975-01-01 16:00:00            17.1\n",
       "9  1975-01-01 18:00:00            17.0"
      ]
     },
     "execution_count": 11,
     "metadata": {},
     "output_type": "execute_result"
    }
   ],
   "source": [
    "df.head(10)"
   ]
  },
  {
   "cell_type": "code",
   "execution_count": 17,
   "metadata": {
    "collapsed": false,
    "deletable": true,
    "editable": true
   },
   "outputs": [],
   "source": [
    "datetime_rowid = df['Timestamp'].map(lambda t: pd.to_datetime(t, format='%Y-%m-%d %H:%M:%S'))\n",
    "df.index = datetime_rowid"
   ]
  },
  {
   "cell_type": "code",
   "execution_count": 18,
   "metadata": {
    "collapsed": false,
    "deletable": true,
    "editable": true
   },
   "outputs": [
    {
     "data": {
      "text/html": [
       "<div>\n",
       "<style scoped>\n",
       "    .dataframe tbody tr th:only-of-type {\n",
       "        vertical-align: middle;\n",
       "    }\n",
       "\n",
       "    .dataframe tbody tr th {\n",
       "        vertical-align: top;\n",
       "    }\n",
       "\n",
       "    .dataframe thead th {\n",
       "        text-align: right;\n",
       "    }\n",
       "</style>\n",
       "<table border=\"1\" class=\"dataframe\">\n",
       "  <thead>\n",
       "    <tr style=\"text-align: right;\">\n",
       "      <th></th>\n",
       "      <th>Timestamp</th>\n",
       "      <th>Chemical conc.</th>\n",
       "    </tr>\n",
       "    <tr>\n",
       "      <th>Timestamp</th>\n",
       "      <th></th>\n",
       "      <th></th>\n",
       "    </tr>\n",
       "  </thead>\n",
       "  <tbody>\n",
       "    <tr>\n",
       "      <th>1975-01-01 00:00:00</th>\n",
       "      <td>1975-01-01 00:00:00</td>\n",
       "      <td>17.0</td>\n",
       "    </tr>\n",
       "    <tr>\n",
       "      <th>1975-01-01 02:00:00</th>\n",
       "      <td>1975-01-01 02:00:00</td>\n",
       "      <td>16.6</td>\n",
       "    </tr>\n",
       "    <tr>\n",
       "      <th>1975-01-01 04:00:00</th>\n",
       "      <td>1975-01-01 04:00:00</td>\n",
       "      <td>16.3</td>\n",
       "    </tr>\n",
       "    <tr>\n",
       "      <th>1975-01-01 06:00:00</th>\n",
       "      <td>1975-01-01 06:00:00</td>\n",
       "      <td>16.1</td>\n",
       "    </tr>\n",
       "    <tr>\n",
       "      <th>1975-01-01 08:00:00</th>\n",
       "      <td>1975-01-01 08:00:00</td>\n",
       "      <td>17.1</td>\n",
       "    </tr>\n",
       "    <tr>\n",
       "      <th>1975-01-01 10:00:00</th>\n",
       "      <td>1975-01-01 10:00:00</td>\n",
       "      <td>16.9</td>\n",
       "    </tr>\n",
       "    <tr>\n",
       "      <th>1975-01-01 12:00:00</th>\n",
       "      <td>1975-01-01 12:00:00</td>\n",
       "      <td>16.8</td>\n",
       "    </tr>\n",
       "    <tr>\n",
       "      <th>1975-01-01 14:00:00</th>\n",
       "      <td>1975-01-01 14:00:00</td>\n",
       "      <td>17.4</td>\n",
       "    </tr>\n",
       "    <tr>\n",
       "      <th>1975-01-01 16:00:00</th>\n",
       "      <td>1975-01-01 16:00:00</td>\n",
       "      <td>17.1</td>\n",
       "    </tr>\n",
       "    <tr>\n",
       "      <th>1975-01-01 18:00:00</th>\n",
       "      <td>1975-01-01 18:00:00</td>\n",
       "      <td>17.0</td>\n",
       "    </tr>\n",
       "  </tbody>\n",
       "</table>\n",
       "</div>"
      ],
      "text/plain": [
       "                               Timestamp  Chemical conc.\n",
       "Timestamp                                               \n",
       "1975-01-01 00:00:00  1975-01-01 00:00:00            17.0\n",
       "1975-01-01 02:00:00  1975-01-01 02:00:00            16.6\n",
       "1975-01-01 04:00:00  1975-01-01 04:00:00            16.3\n",
       "1975-01-01 06:00:00  1975-01-01 06:00:00            16.1\n",
       "1975-01-01 08:00:00  1975-01-01 08:00:00            17.1\n",
       "1975-01-01 10:00:00  1975-01-01 10:00:00            16.9\n",
       "1975-01-01 12:00:00  1975-01-01 12:00:00            16.8\n",
       "1975-01-01 14:00:00  1975-01-01 14:00:00            17.4\n",
       "1975-01-01 16:00:00  1975-01-01 16:00:00            17.1\n",
       "1975-01-01 18:00:00  1975-01-01 18:00:00            17.0"
      ]
     },
     "execution_count": 18,
     "metadata": {},
     "output_type": "execute_result"
    }
   ],
   "source": [
    "df.head(10)"
   ]
  },
  {
   "cell_type": "code",
   "execution_count": 15,
   "metadata": {
    "collapsed": false,
    "deletable": true,
    "editable": true
   },
   "outputs": [],
   "source": [
    "daily = df['Chemical conc.'].resample('D')\n",
    "daily_mean = daily.mean()"
   ]
  },
  {
   "cell_type": "code",
   "execution_count": 16,
   "metadata": {
    "collapsed": false,
    "deletable": true,
    "editable": true
   },
   "outputs": [
    {
     "data": {
      "text/plain": [
       "Timestamp\n",
       "1975-01-01    16.866667\n",
       "1975-01-02    17.258333\n",
       "1975-01-03    17.458333\n",
       "1975-01-04    17.416667\n",
       "1975-01-05    17.033333\n",
       "1975-01-06    17.150000\n",
       "1975-01-07    16.833333\n",
       "1975-01-08    16.516667\n",
       "1975-01-09    16.783333\n",
       "1975-01-10    16.750000\n",
       "1975-01-11    17.133333\n",
       "1975-01-12    16.750000\n",
       "1975-01-13    17.050000\n",
       "1975-01-14    17.125000\n",
       "1975-01-15    17.266667\n",
       "1975-01-16    17.408333\n",
       "1975-01-17    17.540000\n",
       "Freq: D, Name: Chemical conc., dtype: float64"
      ]
     },
     "execution_count": 16,
     "metadata": {},
     "output_type": "execute_result"
    }
   ],
   "source": [
    "daily_mean"
   ]
  },
  {
   "cell_type": "code",
   "execution_count": 20,
   "metadata": {
    "collapsed": false,
    "deletable": true,
    "editable": true
   },
   "outputs": [
    {
     "data": {
      "image/png": "[encoded data removed]",
      "text/plain": [
       "<matplotlib.figure.Figure at 0x7f8794399390>"
      ]
     },
     "metadata": {},
     "output_type": "display_data"
    }
   ],
   "source": [
    "fig = plt.figure(figsize=(5.5, 5.5))\n",
    "ax = fig.add_subplot(1,1,1)\n",
    "\n",
    "df['Chemical conc.'].plot(ax=ax, color='b')\n",
    "daily_mean.plot(ax=ax, color='r')\n",
    "\n",
    "ax.set_title('Bi-hourly reading (blue) & Daily Mean (red)')\n",
    "ax.set_xlabel('Day in Jan 1975')\n",
    "ax.set_ylabel('Chemical concentration')\n",
    "plt.savefig('B07887_02_17.png', format='png', dpi=300)    "
   ]
  },
  {
   "cell_type": "markdown",
   "metadata": {
    "deletable": true,
    "editable": true
   },
   "source": [
    "## Group wise aggregation"
   ]
  },
  {
   "cell_type": "code",
   "execution_count": 21,
   "metadata": {
    "collapsed": false,
    "deletable": true,
    "editable": true
   },
   "outputs": [
    {
     "name": "stdout",
     "output_type": "stream",
     "text": [
      "02_Understanding_Time_Series_Data.ipynb  B07887_02_17.png  figures\r\n"
     ]
    }
   ],
   "source": [
    "!ls"
   ]
  },
  {
   "cell_type": "code",
   "execution_count": 22,
   "metadata": {
    "collapsed": false,
    "deletable": true,
    "editable": true
   },
   "outputs": [
    {
     "name": "stdout",
     "output_type": "stream",
     "text": [
      "ch01  ch02  docker  Practical-Time-Series-Analysis\r\n"
     ]
    }
   ],
   "source": [
    "!ls ../"
   ]
  },
  {
   "cell_type": "code",
   "execution_count": 23,
   "metadata": {
    "collapsed": false,
    "deletable": true,
    "editable": true
   },
   "outputs": [
    {
     "name": "stdout",
     "output_type": "stream",
     "text": [
      "Chapter01  Chapter03  Chapter05   LICENSE\r\n",
      "Chapter02  Chapter04  Data Files  README.md\r\n"
     ]
    }
   ],
   "source": [
    "!ls ../Practical-Time-Series-Analysis/"
   ]
  },
  {
   "cell_type": "code",
   "execution_count": 25,
   "metadata": {
    "collapsed": false,
    "deletable": true,
    "editable": true
   },
   "outputs": [
    {
     "name": "stdout",
     "output_type": "stream",
     "text": [
      "Annual_Number_of_Lynx_trapped.csv\r\n",
      "chemical-concentration-readings.csv\r\n",
      "Data Files\r\n",
      "DJIA_Jan2016_Dec2016.xlsx\r\n",
      "DJIA_May2016_May2017.csv\r\n",
      "ibm-common-stock-closing-prices.csv\r\n",
      "inflation-consumer-prices-annual.xlsx\r\n",
      "mean-daily-temperature-fisher-river.csv\r\n",
      "mean-daily-temperature-fisher-river.xlsx\r\n",
      "Monthly_CO2_Concentrations.xlsx\r\n",
      "monthly-mean-thickness-dobson-un.csv\r\n",
      "monthly-sunspot-number-zurich-17.csv\r\n",
      "PRSA_data_2010.1.1-2014.12.31.csv\r\n",
      "quarterly-beer-production-in-aus-March 1956-June 1994.csv\r\n",
      "us-airlines-monthly-aircraft-miles-flown.csv\r\n",
      "wisconsin-employment-time-series.csv\r\n",
      "World Bank Mobile Phone Statistics.xlsx\r\n"
     ]
    }
   ],
   "source": [
    "!ls ../Practical-Time-Series-Analysis/Data\\ Files"
   ]
  },
  {
   "cell_type": "code",
   "execution_count": 26,
   "metadata": {
    "collapsed": true,
    "deletable": true,
    "editable": true
   },
   "outputs": [],
   "source": [
    "data_path = \"../Practical-Time-Series-Analysis/Data Files\"\n",
    "fn = 'mean-daily-temperature-fisher-river.csv'"
   ]
  },
  {
   "cell_type": "code",
   "execution_count": 27,
   "metadata": {
    "collapsed": true,
    "deletable": true,
    "editable": true
   },
   "outputs": [],
   "source": [
    "df = pd.read_csv(os.path.join(data_path, fn))"
   ]
  },
  {
   "cell_type": "code",
   "execution_count": 28,
   "metadata": {
    "collapsed": false,
    "deletable": true,
    "editable": true
   },
   "outputs": [
    {
     "data": {
      "text/html": [
       "<div>\n",
       "<style scoped>\n",
       "    .dataframe tbody tr th:only-of-type {\n",
       "        vertical-align: middle;\n",
       "    }\n",
       "\n",
       "    .dataframe tbody tr th {\n",
       "        vertical-align: top;\n",
       "    }\n",
       "\n",
       "    .dataframe thead th {\n",
       "        text-align: right;\n",
       "    }\n",
       "</style>\n",
       "<table border=\"1\" class=\"dataframe\">\n",
       "  <thead>\n",
       "    <tr style=\"text-align: right;\">\n",
       "      <th></th>\n",
       "      <th>Date</th>\n",
       "      <th>Mean temparature</th>\n",
       "    </tr>\n",
       "  </thead>\n",
       "  <tbody>\n",
       "    <tr>\n",
       "      <th>0</th>\n",
       "      <td>1988-01-01</td>\n",
       "      <td>-23.00</td>\n",
       "    </tr>\n",
       "    <tr>\n",
       "      <th>1</th>\n",
       "      <td>1988-01-02</td>\n",
       "      <td>-20.50</td>\n",
       "    </tr>\n",
       "    <tr>\n",
       "      <th>2</th>\n",
       "      <td>1988-01-03</td>\n",
       "      <td>-22.00</td>\n",
       "    </tr>\n",
       "    <tr>\n",
       "      <th>3</th>\n",
       "      <td>1988-01-04</td>\n",
       "      <td>-30.50</td>\n",
       "    </tr>\n",
       "    <tr>\n",
       "      <th>4</th>\n",
       "      <td>1988-01-05</td>\n",
       "      <td>-31.00</td>\n",
       "    </tr>\n",
       "    <tr>\n",
       "      <th>5</th>\n",
       "      <td>1988-01-06</td>\n",
       "      <td>-27.50</td>\n",
       "    </tr>\n",
       "    <tr>\n",
       "      <th>6</th>\n",
       "      <td>1988-01-07</td>\n",
       "      <td>-26.25</td>\n",
       "    </tr>\n",
       "    <tr>\n",
       "      <th>7</th>\n",
       "      <td>1988-01-08</td>\n",
       "      <td>-26.50</td>\n",
       "    </tr>\n",
       "    <tr>\n",
       "      <th>8</th>\n",
       "      <td>1988-01-09</td>\n",
       "      <td>-23.00</td>\n",
       "    </tr>\n",
       "    <tr>\n",
       "      <th>9</th>\n",
       "      <td>1988-01-10</td>\n",
       "      <td>-23.50</td>\n",
       "    </tr>\n",
       "  </tbody>\n",
       "</table>\n",
       "</div>"
      ],
      "text/plain": [
       "         Date  Mean temparature\n",
       "0  1988-01-01            -23.00\n",
       "1  1988-01-02            -20.50\n",
       "2  1988-01-03            -22.00\n",
       "3  1988-01-04            -30.50\n",
       "4  1988-01-05            -31.00\n",
       "5  1988-01-06            -27.50\n",
       "6  1988-01-07            -26.25\n",
       "7  1988-01-08            -26.50\n",
       "8  1988-01-09            -23.00\n",
       "9  1988-01-10            -23.50"
      ]
     },
     "execution_count": 28,
     "metadata": {},
     "output_type": "execute_result"
    }
   ],
   "source": [
    "df.head(10)"
   ]
  },
  {
   "cell_type": "code",
   "execution_count": 30,
   "metadata": {
    "collapsed": true,
    "deletable": true,
    "editable": true
   },
   "outputs": [],
   "source": [
    "df.index = df['Date'].map(lambda d: pd.to_datetime(d, format = '%Y-%m-%d'))"
   ]
  },
  {
   "cell_type": "code",
   "execution_count": 31,
   "metadata": {
    "collapsed": false,
    "deletable": true,
    "editable": true
   },
   "outputs": [
    {
     "data": {
      "text/html": [
       "<div>\n",
       "<style scoped>\n",
       "    .dataframe tbody tr th:only-of-type {\n",
       "        vertical-align: middle;\n",
       "    }\n",
       "\n",
       "    .dataframe tbody tr th {\n",
       "        vertical-align: top;\n",
       "    }\n",
       "\n",
       "    .dataframe thead th {\n",
       "        text-align: right;\n",
       "    }\n",
       "</style>\n",
       "<table border=\"1\" class=\"dataframe\">\n",
       "  <thead>\n",
       "    <tr style=\"text-align: right;\">\n",
       "      <th></th>\n",
       "      <th>Date</th>\n",
       "      <th>Mean temparature</th>\n",
       "    </tr>\n",
       "    <tr>\n",
       "      <th>Date</th>\n",
       "      <th></th>\n",
       "      <th></th>\n",
       "    </tr>\n",
       "  </thead>\n",
       "  <tbody>\n",
       "    <tr>\n",
       "      <th>1988-01-01</th>\n",
       "      <td>1988-01-01</td>\n",
       "      <td>-23.00</td>\n",
       "    </tr>\n",
       "    <tr>\n",
       "      <th>1988-01-02</th>\n",
       "      <td>1988-01-02</td>\n",
       "      <td>-20.50</td>\n",
       "    </tr>\n",
       "    <tr>\n",
       "      <th>1988-01-03</th>\n",
       "      <td>1988-01-03</td>\n",
       "      <td>-22.00</td>\n",
       "    </tr>\n",
       "    <tr>\n",
       "      <th>1988-01-04</th>\n",
       "      <td>1988-01-04</td>\n",
       "      <td>-30.50</td>\n",
       "    </tr>\n",
       "    <tr>\n",
       "      <th>1988-01-05</th>\n",
       "      <td>1988-01-05</td>\n",
       "      <td>-31.00</td>\n",
       "    </tr>\n",
       "    <tr>\n",
       "      <th>1988-01-06</th>\n",
       "      <td>1988-01-06</td>\n",
       "      <td>-27.50</td>\n",
       "    </tr>\n",
       "    <tr>\n",
       "      <th>1988-01-07</th>\n",
       "      <td>1988-01-07</td>\n",
       "      <td>-26.25</td>\n",
       "    </tr>\n",
       "    <tr>\n",
       "      <th>1988-01-08</th>\n",
       "      <td>1988-01-08</td>\n",
       "      <td>-26.50</td>\n",
       "    </tr>\n",
       "    <tr>\n",
       "      <th>1988-01-09</th>\n",
       "      <td>1988-01-09</td>\n",
       "      <td>-23.00</td>\n",
       "    </tr>\n",
       "    <tr>\n",
       "      <th>1988-01-10</th>\n",
       "      <td>1988-01-10</td>\n",
       "      <td>-23.50</td>\n",
       "    </tr>\n",
       "  </tbody>\n",
       "</table>\n",
       "</div>"
      ],
      "text/plain": [
       "                  Date  Mean temparature\n",
       "Date                                    \n",
       "1988-01-01  1988-01-01            -23.00\n",
       "1988-01-02  1988-01-02            -20.50\n",
       "1988-01-03  1988-01-03            -22.00\n",
       "1988-01-04  1988-01-04            -30.50\n",
       "1988-01-05  1988-01-05            -31.00\n",
       "1988-01-06  1988-01-06            -27.50\n",
       "1988-01-07  1988-01-07            -26.25\n",
       "1988-01-08  1988-01-08            -26.50\n",
       "1988-01-09  1988-01-09            -23.00\n",
       "1988-01-10  1988-01-10            -23.50"
      ]
     },
     "execution_count": 31,
     "metadata": {},
     "output_type": "execute_result"
    }
   ],
   "source": [
    "df.head(10)"
   ]
  },
  {
   "cell_type": "code",
   "execution_count": 48,
   "metadata": {
    "collapsed": false,
    "deletable": true,
    "editable": true
   },
   "outputs": [
    {
     "data": {
      "image/png": "[encoded data removed]",
      "text/plain": [
       "<matplotlib.figure.Figure at 0x7f87903dbb00>"
      ]
     },
     "metadata": {},
     "output_type": "display_data"
    }
   ],
   "source": [
    "#Plot original time series on daily mean temparature\n",
    "fig = plt.figure(figsize=(5.5, 5.5))\n",
    "ax = fig.add_subplot(1,1,1)\n",
    "\n",
    "df['Mean temparature'].plot(ax=ax, color='b')\n",
    "\n",
    "ax.set_title('Mean daily temparature')\n",
    "\n",
    "plt.savefig('B07887_02_03.png', format='png', dpi=300)"
   ]
  },
  {
   "cell_type": "code",
   "execution_count": 32,
   "metadata": {
    "collapsed": false,
    "deletable": true,
    "editable": true
   },
   "outputs": [],
   "source": [
    "df['Month_Year'] = df.index.map(lambda d: d.strftime('%m-%Y'))"
   ]
  },
  {
   "cell_type": "code",
   "execution_count": 33,
   "metadata": {
    "collapsed": false,
    "deletable": true,
    "editable": true
   },
   "outputs": [
    {
     "data": {
      "text/html": [
       "<div>\n",
       "<style scoped>\n",
       "    .dataframe tbody tr th:only-of-type {\n",
       "        vertical-align: middle;\n",
       "    }\n",
       "\n",
       "    .dataframe tbody tr th {\n",
       "        vertical-align: top;\n",
       "    }\n",
       "\n",
       "    .dataframe thead th {\n",
       "        text-align: right;\n",
       "    }\n",
       "</style>\n",
       "<table border=\"1\" class=\"dataframe\">\n",
       "  <thead>\n",
       "    <tr style=\"text-align: right;\">\n",
       "      <th></th>\n",
       "      <th>Date</th>\n",
       "      <th>Mean temparature</th>\n",
       "      <th>Month_Year</th>\n",
       "    </tr>\n",
       "    <tr>\n",
       "      <th>Date</th>\n",
       "      <th></th>\n",
       "      <th></th>\n",
       "      <th></th>\n",
       "    </tr>\n",
       "  </thead>\n",
       "  <tbody>\n",
       "    <tr>\n",
       "      <th>1988-01-01</th>\n",
       "      <td>1988-01-01</td>\n",
       "      <td>-23.00</td>\n",
       "      <td>01-1988</td>\n",
       "    </tr>\n",
       "    <tr>\n",
       "      <th>1988-01-02</th>\n",
       "      <td>1988-01-02</td>\n",
       "      <td>-20.50</td>\n",
       "      <td>01-1988</td>\n",
       "    </tr>\n",
       "    <tr>\n",
       "      <th>1988-01-03</th>\n",
       "      <td>1988-01-03</td>\n",
       "      <td>-22.00</td>\n",
       "      <td>01-1988</td>\n",
       "    </tr>\n",
       "    <tr>\n",
       "      <th>1988-01-04</th>\n",
       "      <td>1988-01-04</td>\n",
       "      <td>-30.50</td>\n",
       "      <td>01-1988</td>\n",
       "    </tr>\n",
       "    <tr>\n",
       "      <th>1988-01-05</th>\n",
       "      <td>1988-01-05</td>\n",
       "      <td>-31.00</td>\n",
       "      <td>01-1988</td>\n",
       "    </tr>\n",
       "    <tr>\n",
       "      <th>1988-01-06</th>\n",
       "      <td>1988-01-06</td>\n",
       "      <td>-27.50</td>\n",
       "      <td>01-1988</td>\n",
       "    </tr>\n",
       "    <tr>\n",
       "      <th>1988-01-07</th>\n",
       "      <td>1988-01-07</td>\n",
       "      <td>-26.25</td>\n",
       "      <td>01-1988</td>\n",
       "    </tr>\n",
       "    <tr>\n",
       "      <th>1988-01-08</th>\n",
       "      <td>1988-01-08</td>\n",
       "      <td>-26.50</td>\n",
       "      <td>01-1988</td>\n",
       "    </tr>\n",
       "    <tr>\n",
       "      <th>1988-01-09</th>\n",
       "      <td>1988-01-09</td>\n",
       "      <td>-23.00</td>\n",
       "      <td>01-1988</td>\n",
       "    </tr>\n",
       "    <tr>\n",
       "      <th>1988-01-10</th>\n",
       "      <td>1988-01-10</td>\n",
       "      <td>-23.50</td>\n",
       "      <td>01-1988</td>\n",
       "    </tr>\n",
       "  </tbody>\n",
       "</table>\n",
       "</div>"
      ],
      "text/plain": [
       "                  Date  Mean temparature Month_Year\n",
       "Date                                               \n",
       "1988-01-01  1988-01-01            -23.00    01-1988\n",
       "1988-01-02  1988-01-02            -20.50    01-1988\n",
       "1988-01-03  1988-01-03            -22.00    01-1988\n",
       "1988-01-04  1988-01-04            -30.50    01-1988\n",
       "1988-01-05  1988-01-05            -31.00    01-1988\n",
       "1988-01-06  1988-01-06            -27.50    01-1988\n",
       "1988-01-07  1988-01-07            -26.25    01-1988\n",
       "1988-01-08  1988-01-08            -26.50    01-1988\n",
       "1988-01-09  1988-01-09            -23.00    01-1988\n",
       "1988-01-10  1988-01-10            -23.50    01-1988"
      ]
     },
     "execution_count": 33,
     "metadata": {},
     "output_type": "execute_result"
    }
   ],
   "source": [
    "df.head(10)"
   ]
  },
  {
   "cell_type": "code",
   "execution_count": 34,
   "metadata": {
    "collapsed": true,
    "deletable": true,
    "editable": true
   },
   "outputs": [],
   "source": [
    "monthly_stats = df.groupby(by='Month_Year')['Mean temparature'].aggregate([np.mean, np.median, np.std])"
   ]
  },
  {
   "cell_type": "code",
   "execution_count": 36,
   "metadata": {
    "collapsed": false,
    "deletable": true,
    "editable": true
   },
   "outputs": [
    {
     "data": {
      "text/html": [
       "<div>\n",
       "<style scoped>\n",
       "    .dataframe tbody tr th:only-of-type {\n",
       "        vertical-align: middle;\n",
       "    }\n",
       "\n",
       "    .dataframe tbody tr th {\n",
       "        vertical-align: top;\n",
       "    }\n",
       "\n",
       "    .dataframe thead th {\n",
       "        text-align: right;\n",
       "    }\n",
       "</style>\n",
       "<table border=\"1\" class=\"dataframe\">\n",
       "  <thead>\n",
       "    <tr style=\"text-align: right;\">\n",
       "      <th></th>\n",
       "      <th>mean</th>\n",
       "      <th>median</th>\n",
       "      <th>std</th>\n",
       "    </tr>\n",
       "    <tr>\n",
       "      <th>Month_Year</th>\n",
       "      <th></th>\n",
       "      <th></th>\n",
       "      <th></th>\n",
       "    </tr>\n",
       "  </thead>\n",
       "  <tbody>\n",
       "    <tr>\n",
       "      <th>01-1988</th>\n",
       "      <td>-22.137097</td>\n",
       "      <td>-23.00</td>\n",
       "      <td>5.260640</td>\n",
       "    </tr>\n",
       "    <tr>\n",
       "      <th>01-1989</th>\n",
       "      <td>-17.129032</td>\n",
       "      <td>-18.00</td>\n",
       "      <td>8.250725</td>\n",
       "    </tr>\n",
       "    <tr>\n",
       "      <th>01-1990</th>\n",
       "      <td>-15.112903</td>\n",
       "      <td>-12.00</td>\n",
       "      <td>6.606764</td>\n",
       "    </tr>\n",
       "    <tr>\n",
       "      <th>01-1991</th>\n",
       "      <td>-23.038710</td>\n",
       "      <td>-24.50</td>\n",
       "      <td>7.095570</td>\n",
       "    </tr>\n",
       "    <tr>\n",
       "      <th>02-1988</th>\n",
       "      <td>-19.025862</td>\n",
       "      <td>-19.50</td>\n",
       "      <td>8.598522</td>\n",
       "    </tr>\n",
       "    <tr>\n",
       "      <th>02-1989</th>\n",
       "      <td>-19.267857</td>\n",
       "      <td>-19.25</td>\n",
       "      <td>8.092042</td>\n",
       "    </tr>\n",
       "    <tr>\n",
       "      <th>02-1990</th>\n",
       "      <td>-17.482143</td>\n",
       "      <td>-16.50</td>\n",
       "      <td>8.018477</td>\n",
       "    </tr>\n",
       "    <tr>\n",
       "      <th>02-1991</th>\n",
       "      <td>-10.967857</td>\n",
       "      <td>-12.15</td>\n",
       "      <td>8.220753</td>\n",
       "    </tr>\n",
       "    <tr>\n",
       "      <th>03-1988</th>\n",
       "      <td>-8.258065</td>\n",
       "      <td>-9.25</td>\n",
       "      <td>5.341459</td>\n",
       "    </tr>\n",
       "    <tr>\n",
       "      <th>03-1989</th>\n",
       "      <td>-12.508065</td>\n",
       "      <td>-9.50</td>\n",
       "      <td>8.289925</td>\n",
       "    </tr>\n",
       "  </tbody>\n",
       "</table>\n",
       "</div>"
      ],
      "text/plain": [
       "                 mean  median       std\n",
       "Month_Year                             \n",
       "01-1988    -22.137097  -23.00  5.260640\n",
       "01-1989    -17.129032  -18.00  8.250725\n",
       "01-1990    -15.112903  -12.00  6.606764\n",
       "01-1991    -23.038710  -24.50  7.095570\n",
       "02-1988    -19.025862  -19.50  8.598522\n",
       "02-1989    -19.267857  -19.25  8.092042\n",
       "02-1990    -17.482143  -16.50  8.018477\n",
       "02-1991    -10.967857  -12.15  8.220753\n",
       "03-1988     -8.258065   -9.25  5.341459\n",
       "03-1989    -12.508065   -9.50  8.289925"
      ]
     },
     "execution_count": 36,
     "metadata": {},
     "output_type": "execute_result"
    }
   ],
   "source": [
    "monthly_stats.head(10)"
   ]
  },
  {
   "cell_type": "code",
   "execution_count": 37,
   "metadata": {
    "collapsed": true,
    "deletable": true,
    "editable": true
   },
   "outputs": [],
   "source": [
    "monthly_stats.reset_index(inplace=True)"
   ]
  },
  {
   "cell_type": "code",
   "execution_count": 38,
   "metadata": {
    "collapsed": false,
    "deletable": true,
    "editable": true
   },
   "outputs": [
    {
     "data": {
      "text/html": [
       "<div>\n",
       "<style scoped>\n",
       "    .dataframe tbody tr th:only-of-type {\n",
       "        vertical-align: middle;\n",
       "    }\n",
       "\n",
       "    .dataframe tbody tr th {\n",
       "        vertical-align: top;\n",
       "    }\n",
       "\n",
       "    .dataframe thead th {\n",
       "        text-align: right;\n",
       "    }\n",
       "</style>\n",
       "<table border=\"1\" class=\"dataframe\">\n",
       "  <thead>\n",
       "    <tr style=\"text-align: right;\">\n",
       "      <th></th>\n",
       "      <th>Month_Year</th>\n",
       "      <th>mean</th>\n",
       "      <th>median</th>\n",
       "      <th>std</th>\n",
       "    </tr>\n",
       "  </thead>\n",
       "  <tbody>\n",
       "    <tr>\n",
       "      <th>0</th>\n",
       "      <td>01-1988</td>\n",
       "      <td>-22.137097</td>\n",
       "      <td>-23.00</td>\n",
       "      <td>5.260640</td>\n",
       "    </tr>\n",
       "    <tr>\n",
       "      <th>1</th>\n",
       "      <td>01-1989</td>\n",
       "      <td>-17.129032</td>\n",
       "      <td>-18.00</td>\n",
       "      <td>8.250725</td>\n",
       "    </tr>\n",
       "    <tr>\n",
       "      <th>2</th>\n",
       "      <td>01-1990</td>\n",
       "      <td>-15.112903</td>\n",
       "      <td>-12.00</td>\n",
       "      <td>6.606764</td>\n",
       "    </tr>\n",
       "    <tr>\n",
       "      <th>3</th>\n",
       "      <td>01-1991</td>\n",
       "      <td>-23.038710</td>\n",
       "      <td>-24.50</td>\n",
       "      <td>7.095570</td>\n",
       "    </tr>\n",
       "    <tr>\n",
       "      <th>4</th>\n",
       "      <td>02-1988</td>\n",
       "      <td>-19.025862</td>\n",
       "      <td>-19.50</td>\n",
       "      <td>8.598522</td>\n",
       "    </tr>\n",
       "    <tr>\n",
       "      <th>5</th>\n",
       "      <td>02-1989</td>\n",
       "      <td>-19.267857</td>\n",
       "      <td>-19.25</td>\n",
       "      <td>8.092042</td>\n",
       "    </tr>\n",
       "    <tr>\n",
       "      <th>6</th>\n",
       "      <td>02-1990</td>\n",
       "      <td>-17.482143</td>\n",
       "      <td>-16.50</td>\n",
       "      <td>8.018477</td>\n",
       "    </tr>\n",
       "    <tr>\n",
       "      <th>7</th>\n",
       "      <td>02-1991</td>\n",
       "      <td>-10.967857</td>\n",
       "      <td>-12.15</td>\n",
       "      <td>8.220753</td>\n",
       "    </tr>\n",
       "    <tr>\n",
       "      <th>8</th>\n",
       "      <td>03-1988</td>\n",
       "      <td>-8.258065</td>\n",
       "      <td>-9.25</td>\n",
       "      <td>5.341459</td>\n",
       "    </tr>\n",
       "    <tr>\n",
       "      <th>9</th>\n",
       "      <td>03-1989</td>\n",
       "      <td>-12.508065</td>\n",
       "      <td>-9.50</td>\n",
       "      <td>8.289925</td>\n",
       "    </tr>\n",
       "  </tbody>\n",
       "</table>\n",
       "</div>"
      ],
      "text/plain": [
       "  Month_Year       mean  median       std\n",
       "0    01-1988 -22.137097  -23.00  5.260640\n",
       "1    01-1989 -17.129032  -18.00  8.250725\n",
       "2    01-1990 -15.112903  -12.00  6.606764\n",
       "3    01-1991 -23.038710  -24.50  7.095570\n",
       "4    02-1988 -19.025862  -19.50  8.598522\n",
       "5    02-1989 -19.267857  -19.25  8.092042\n",
       "6    02-1990 -17.482143  -16.50  8.018477\n",
       "7    02-1991 -10.967857  -12.15  8.220753\n",
       "8    03-1988  -8.258065   -9.25  5.341459\n",
       "9    03-1989 -12.508065   -9.50  8.289925"
      ]
     },
     "execution_count": 38,
     "metadata": {},
     "output_type": "execute_result"
    }
   ],
   "source": [
    "monthly_stats.head(10)"
   ]
  },
  {
   "cell_type": "code",
   "execution_count": 39,
   "metadata": {
    "collapsed": true,
    "deletable": true,
    "editable": true
   },
   "outputs": [],
   "source": [
    "monthly_stats['Year'] = monthly_stats['Month_Year']\\\n",
    "                        .map(lambda m: pd.to_datetime(m, format='%m-%Y').strftime('%Y'))"
   ]
  },
  {
   "cell_type": "code",
   "execution_count": 40,
   "metadata": {
    "collapsed": false,
    "deletable": true,
    "editable": true
   },
   "outputs": [
    {
     "data": {
      "text/html": [
       "<div>\n",
       "<style scoped>\n",
       "    .dataframe tbody tr th:only-of-type {\n",
       "        vertical-align: middle;\n",
       "    }\n",
       "\n",
       "    .dataframe tbody tr th {\n",
       "        vertical-align: top;\n",
       "    }\n",
       "\n",
       "    .dataframe thead th {\n",
       "        text-align: right;\n",
       "    }\n",
       "</style>\n",
       "<table border=\"1\" class=\"dataframe\">\n",
       "  <thead>\n",
       "    <tr style=\"text-align: right;\">\n",
       "      <th></th>\n",
       "      <th>Month_Year</th>\n",
       "      <th>mean</th>\n",
       "      <th>median</th>\n",
       "      <th>std</th>\n",
       "      <th>Year</th>\n",
       "    </tr>\n",
       "  </thead>\n",
       "  <tbody>\n",
       "    <tr>\n",
       "      <th>0</th>\n",
       "      <td>01-1988</td>\n",
       "      <td>-22.137097</td>\n",
       "      <td>-23.00</td>\n",
       "      <td>5.260640</td>\n",
       "      <td>1988</td>\n",
       "    </tr>\n",
       "    <tr>\n",
       "      <th>1</th>\n",
       "      <td>01-1989</td>\n",
       "      <td>-17.129032</td>\n",
       "      <td>-18.00</td>\n",
       "      <td>8.250725</td>\n",
       "      <td>1989</td>\n",
       "    </tr>\n",
       "    <tr>\n",
       "      <th>2</th>\n",
       "      <td>01-1990</td>\n",
       "      <td>-15.112903</td>\n",
       "      <td>-12.00</td>\n",
       "      <td>6.606764</td>\n",
       "      <td>1990</td>\n",
       "    </tr>\n",
       "    <tr>\n",
       "      <th>3</th>\n",
       "      <td>01-1991</td>\n",
       "      <td>-23.038710</td>\n",
       "      <td>-24.50</td>\n",
       "      <td>7.095570</td>\n",
       "      <td>1991</td>\n",
       "    </tr>\n",
       "    <tr>\n",
       "      <th>4</th>\n",
       "      <td>02-1988</td>\n",
       "      <td>-19.025862</td>\n",
       "      <td>-19.50</td>\n",
       "      <td>8.598522</td>\n",
       "      <td>1988</td>\n",
       "    </tr>\n",
       "    <tr>\n",
       "      <th>5</th>\n",
       "      <td>02-1989</td>\n",
       "      <td>-19.267857</td>\n",
       "      <td>-19.25</td>\n",
       "      <td>8.092042</td>\n",
       "      <td>1989</td>\n",
       "    </tr>\n",
       "    <tr>\n",
       "      <th>6</th>\n",
       "      <td>02-1990</td>\n",
       "      <td>-17.482143</td>\n",
       "      <td>-16.50</td>\n",
       "      <td>8.018477</td>\n",
       "      <td>1990</td>\n",
       "    </tr>\n",
       "    <tr>\n",
       "      <th>7</th>\n",
       "      <td>02-1991</td>\n",
       "      <td>-10.967857</td>\n",
       "      <td>-12.15</td>\n",
       "      <td>8.220753</td>\n",
       "      <td>1991</td>\n",
       "    </tr>\n",
       "    <tr>\n",
       "      <th>8</th>\n",
       "      <td>03-1988</td>\n",
       "      <td>-8.258065</td>\n",
       "      <td>-9.25</td>\n",
       "      <td>5.341459</td>\n",
       "      <td>1988</td>\n",
       "    </tr>\n",
       "    <tr>\n",
       "      <th>9</th>\n",
       "      <td>03-1989</td>\n",
       "      <td>-12.508065</td>\n",
       "      <td>-9.50</td>\n",
       "      <td>8.289925</td>\n",
       "      <td>1989</td>\n",
       "    </tr>\n",
       "  </tbody>\n",
       "</table>\n",
       "</div>"
      ],
      "text/plain": [
       "  Month_Year       mean  median       std  Year\n",
       "0    01-1988 -22.137097  -23.00  5.260640  1988\n",
       "1    01-1989 -17.129032  -18.00  8.250725  1989\n",
       "2    01-1990 -15.112903  -12.00  6.606764  1990\n",
       "3    01-1991 -23.038710  -24.50  7.095570  1991\n",
       "4    02-1988 -19.025862  -19.50  8.598522  1988\n",
       "5    02-1989 -19.267857  -19.25  8.092042  1989\n",
       "6    02-1990 -17.482143  -16.50  8.018477  1990\n",
       "7    02-1991 -10.967857  -12.15  8.220753  1991\n",
       "8    03-1988  -8.258065   -9.25  5.341459  1988\n",
       "9    03-1989 -12.508065   -9.50  8.289925  1989"
      ]
     },
     "execution_count": 40,
     "metadata": {},
     "output_type": "execute_result"
    }
   ],
   "source": [
    "monthly_stats.head(10)"
   ]
  },
  {
   "cell_type": "code",
   "execution_count": 41,
   "metadata": {
    "collapsed": true,
    "deletable": true,
    "editable": true
   },
   "outputs": [],
   "source": [
    "monthly_stats['Month'] = monthly_stats['Month_Year']\\\n",
    "                        .map(lambda m: pd.to_datetime(m, format='%m-%Y').strftime('%m'))"
   ]
  },
  {
   "cell_type": "code",
   "execution_count": 42,
   "metadata": {
    "collapsed": false,
    "deletable": true,
    "editable": true
   },
   "outputs": [
    {
     "data": {
      "text/html": [
       "<div>\n",
       "<style scoped>\n",
       "    .dataframe tbody tr th:only-of-type {\n",
       "        vertical-align: middle;\n",
       "    }\n",
       "\n",
       "    .dataframe tbody tr th {\n",
       "        vertical-align: top;\n",
       "    }\n",
       "\n",
       "    .dataframe thead th {\n",
       "        text-align: right;\n",
       "    }\n",
       "</style>\n",
       "<table border=\"1\" class=\"dataframe\">\n",
       "  <thead>\n",
       "    <tr style=\"text-align: right;\">\n",
       "      <th></th>\n",
       "      <th>Month_Year</th>\n",
       "      <th>mean</th>\n",
       "      <th>median</th>\n",
       "      <th>std</th>\n",
       "      <th>Year</th>\n",
       "      <th>Month</th>\n",
       "    </tr>\n",
       "  </thead>\n",
       "  <tbody>\n",
       "    <tr>\n",
       "      <th>0</th>\n",
       "      <td>01-1988</td>\n",
       "      <td>-22.137097</td>\n",
       "      <td>-23.00</td>\n",
       "      <td>5.260640</td>\n",
       "      <td>1988</td>\n",
       "      <td>01</td>\n",
       "    </tr>\n",
       "    <tr>\n",
       "      <th>1</th>\n",
       "      <td>01-1989</td>\n",
       "      <td>-17.129032</td>\n",
       "      <td>-18.00</td>\n",
       "      <td>8.250725</td>\n",
       "      <td>1989</td>\n",
       "      <td>01</td>\n",
       "    </tr>\n",
       "    <tr>\n",
       "      <th>2</th>\n",
       "      <td>01-1990</td>\n",
       "      <td>-15.112903</td>\n",
       "      <td>-12.00</td>\n",
       "      <td>6.606764</td>\n",
       "      <td>1990</td>\n",
       "      <td>01</td>\n",
       "    </tr>\n",
       "    <tr>\n",
       "      <th>3</th>\n",
       "      <td>01-1991</td>\n",
       "      <td>-23.038710</td>\n",
       "      <td>-24.50</td>\n",
       "      <td>7.095570</td>\n",
       "      <td>1991</td>\n",
       "      <td>01</td>\n",
       "    </tr>\n",
       "    <tr>\n",
       "      <th>4</th>\n",
       "      <td>02-1988</td>\n",
       "      <td>-19.025862</td>\n",
       "      <td>-19.50</td>\n",
       "      <td>8.598522</td>\n",
       "      <td>1988</td>\n",
       "      <td>02</td>\n",
       "    </tr>\n",
       "    <tr>\n",
       "      <th>5</th>\n",
       "      <td>02-1989</td>\n",
       "      <td>-19.267857</td>\n",
       "      <td>-19.25</td>\n",
       "      <td>8.092042</td>\n",
       "      <td>1989</td>\n",
       "      <td>02</td>\n",
       "    </tr>\n",
       "    <tr>\n",
       "      <th>6</th>\n",
       "      <td>02-1990</td>\n",
       "      <td>-17.482143</td>\n",
       "      <td>-16.50</td>\n",
       "      <td>8.018477</td>\n",
       "      <td>1990</td>\n",
       "      <td>02</td>\n",
       "    </tr>\n",
       "    <tr>\n",
       "      <th>7</th>\n",
       "      <td>02-1991</td>\n",
       "      <td>-10.967857</td>\n",
       "      <td>-12.15</td>\n",
       "      <td>8.220753</td>\n",
       "      <td>1991</td>\n",
       "      <td>02</td>\n",
       "    </tr>\n",
       "    <tr>\n",
       "      <th>8</th>\n",
       "      <td>03-1988</td>\n",
       "      <td>-8.258065</td>\n",
       "      <td>-9.25</td>\n",
       "      <td>5.341459</td>\n",
       "      <td>1988</td>\n",
       "      <td>03</td>\n",
       "    </tr>\n",
       "    <tr>\n",
       "      <th>9</th>\n",
       "      <td>03-1989</td>\n",
       "      <td>-12.508065</td>\n",
       "      <td>-9.50</td>\n",
       "      <td>8.289925</td>\n",
       "      <td>1989</td>\n",
       "      <td>03</td>\n",
       "    </tr>\n",
       "  </tbody>\n",
       "</table>\n",
       "</div>"
      ],
      "text/plain": [
       "  Month_Year       mean  median       std  Year Month\n",
       "0    01-1988 -22.137097  -23.00  5.260640  1988    01\n",
       "1    01-1989 -17.129032  -18.00  8.250725  1989    01\n",
       "2    01-1990 -15.112903  -12.00  6.606764  1990    01\n",
       "3    01-1991 -23.038710  -24.50  7.095570  1991    01\n",
       "4    02-1988 -19.025862  -19.50  8.598522  1988    02\n",
       "5    02-1989 -19.267857  -19.25  8.092042  1989    02\n",
       "6    02-1990 -17.482143  -16.50  8.018477  1990    02\n",
       "7    02-1991 -10.967857  -12.15  8.220753  1991    02\n",
       "8    03-1988  -8.258065   -9.25  5.341459  1988    03\n",
       "9    03-1989 -12.508065   -9.50  8.289925  1989    03"
      ]
     },
     "execution_count": 42,
     "metadata": {},
     "output_type": "execute_result"
    }
   ],
   "source": [
    "monthly_stats.head(10)"
   ]
  },
  {
   "cell_type": "code",
   "execution_count": 43,
   "metadata": {
    "collapsed": true,
    "deletable": true,
    "editable": true
   },
   "outputs": [],
   "source": [
    "monthly_stats.sort_values(by=['Year', 'Month'], inplace=True)"
   ]
  },
  {
   "cell_type": "code",
   "execution_count": 44,
   "metadata": {
    "collapsed": false,
    "deletable": true,
    "editable": true
   },
   "outputs": [
    {
     "data": {
      "text/html": [
       "<div>\n",
       "<style scoped>\n",
       "    .dataframe tbody tr th:only-of-type {\n",
       "        vertical-align: middle;\n",
       "    }\n",
       "\n",
       "    .dataframe tbody tr th {\n",
       "        vertical-align: top;\n",
       "    }\n",
       "\n",
       "    .dataframe thead th {\n",
       "        text-align: right;\n",
       "    }\n",
       "</style>\n",
       "<table border=\"1\" class=\"dataframe\">\n",
       "  <thead>\n",
       "    <tr style=\"text-align: right;\">\n",
       "      <th></th>\n",
       "      <th>Month_Year</th>\n",
       "      <th>mean</th>\n",
       "      <th>median</th>\n",
       "      <th>std</th>\n",
       "      <th>Year</th>\n",
       "      <th>Month</th>\n",
       "    </tr>\n",
       "  </thead>\n",
       "  <tbody>\n",
       "    <tr>\n",
       "      <th>0</th>\n",
       "      <td>01-1988</td>\n",
       "      <td>-22.137097</td>\n",
       "      <td>-23.000</td>\n",
       "      <td>5.260640</td>\n",
       "      <td>1988</td>\n",
       "      <td>01</td>\n",
       "    </tr>\n",
       "    <tr>\n",
       "      <th>4</th>\n",
       "      <td>02-1988</td>\n",
       "      <td>-19.025862</td>\n",
       "      <td>-19.500</td>\n",
       "      <td>8.598522</td>\n",
       "      <td>1988</td>\n",
       "      <td>02</td>\n",
       "    </tr>\n",
       "    <tr>\n",
       "      <th>8</th>\n",
       "      <td>03-1988</td>\n",
       "      <td>-8.258065</td>\n",
       "      <td>-9.250</td>\n",
       "      <td>5.341459</td>\n",
       "      <td>1988</td>\n",
       "      <td>03</td>\n",
       "    </tr>\n",
       "    <tr>\n",
       "      <th>12</th>\n",
       "      <td>04-1988</td>\n",
       "      <td>2.641667</td>\n",
       "      <td>1.875</td>\n",
       "      <td>5.057720</td>\n",
       "      <td>1988</td>\n",
       "      <td>04</td>\n",
       "    </tr>\n",
       "    <tr>\n",
       "      <th>16</th>\n",
       "      <td>05-1988</td>\n",
       "      <td>11.290323</td>\n",
       "      <td>11.000</td>\n",
       "      <td>6.254364</td>\n",
       "      <td>1988</td>\n",
       "      <td>05</td>\n",
       "    </tr>\n",
       "    <tr>\n",
       "      <th>20</th>\n",
       "      <td>06-1988</td>\n",
       "      <td>19.291667</td>\n",
       "      <td>19.000</td>\n",
       "      <td>3.909032</td>\n",
       "      <td>1988</td>\n",
       "      <td>06</td>\n",
       "    </tr>\n",
       "    <tr>\n",
       "      <th>24</th>\n",
       "      <td>07-1988</td>\n",
       "      <td>19.048387</td>\n",
       "      <td>18.500</td>\n",
       "      <td>3.073692</td>\n",
       "      <td>1988</td>\n",
       "      <td>07</td>\n",
       "    </tr>\n",
       "    <tr>\n",
       "      <th>28</th>\n",
       "      <td>08-1988</td>\n",
       "      <td>17.379032</td>\n",
       "      <td>18.000</td>\n",
       "      <td>3.183205</td>\n",
       "      <td>1988</td>\n",
       "      <td>08</td>\n",
       "    </tr>\n",
       "    <tr>\n",
       "      <th>32</th>\n",
       "      <td>09-1988</td>\n",
       "      <td>10.675000</td>\n",
       "      <td>10.750</td>\n",
       "      <td>3.880294</td>\n",
       "      <td>1988</td>\n",
       "      <td>09</td>\n",
       "    </tr>\n",
       "    <tr>\n",
       "      <th>36</th>\n",
       "      <td>10-1988</td>\n",
       "      <td>2.467742</td>\n",
       "      <td>3.000</td>\n",
       "      <td>6.697245</td>\n",
       "      <td>1988</td>\n",
       "      <td>10</td>\n",
       "    </tr>\n",
       "  </tbody>\n",
       "</table>\n",
       "</div>"
      ],
      "text/plain": [
       "   Month_Year       mean  median       std  Year Month\n",
       "0     01-1988 -22.137097 -23.000  5.260640  1988    01\n",
       "4     02-1988 -19.025862 -19.500  8.598522  1988    02\n",
       "8     03-1988  -8.258065  -9.250  5.341459  1988    03\n",
       "12    04-1988   2.641667   1.875  5.057720  1988    04\n",
       "16    05-1988  11.290323  11.000  6.254364  1988    05\n",
       "20    06-1988  19.291667  19.000  3.909032  1988    06\n",
       "24    07-1988  19.048387  18.500  3.073692  1988    07\n",
       "28    08-1988  17.379032  18.000  3.183205  1988    08\n",
       "32    09-1988  10.675000  10.750  3.880294  1988    09\n",
       "36    10-1988   2.467742   3.000  6.697245  1988    10"
      ]
     },
     "execution_count": 44,
     "metadata": {},
     "output_type": "execute_result"
    }
   ],
   "source": [
    "monthly_stats.head(10)"
   ]
  },
  {
   "cell_type": "code",
   "execution_count": 45,
   "metadata": {
    "collapsed": true,
    "deletable": true,
    "editable": true
   },
   "outputs": [],
   "source": [
    "monthly_stats.index = monthly_stats['Month_Year']"
   ]
  },
  {
   "cell_type": "code",
   "execution_count": 46,
   "metadata": {
    "collapsed": false,
    "deletable": true,
    "editable": true
   },
   "outputs": [
    {
     "data": {
      "text/html": [
       "<div>\n",
       "<style scoped>\n",
       "    .dataframe tbody tr th:only-of-type {\n",
       "        vertical-align: middle;\n",
       "    }\n",
       "\n",
       "    .dataframe tbody tr th {\n",
       "        vertical-align: top;\n",
       "    }\n",
       "\n",
       "    .dataframe thead th {\n",
       "        text-align: right;\n",
       "    }\n",
       "</style>\n",
       "<table border=\"1\" class=\"dataframe\">\n",
       "  <thead>\n",
       "    <tr style=\"text-align: right;\">\n",
       "      <th></th>\n",
       "      <th>Month_Year</th>\n",
       "      <th>mean</th>\n",
       "      <th>median</th>\n",
       "      <th>std</th>\n",
       "      <th>Year</th>\n",
       "      <th>Month</th>\n",
       "    </tr>\n",
       "    <tr>\n",
       "      <th>Month_Year</th>\n",
       "      <th></th>\n",
       "      <th></th>\n",
       "      <th></th>\n",
       "      <th></th>\n",
       "      <th></th>\n",
       "      <th></th>\n",
       "    </tr>\n",
       "  </thead>\n",
       "  <tbody>\n",
       "    <tr>\n",
       "      <th>01-1988</th>\n",
       "      <td>01-1988</td>\n",
       "      <td>-22.137097</td>\n",
       "      <td>-23.000</td>\n",
       "      <td>5.260640</td>\n",
       "      <td>1988</td>\n",
       "      <td>01</td>\n",
       "    </tr>\n",
       "    <tr>\n",
       "      <th>02-1988</th>\n",
       "      <td>02-1988</td>\n",
       "      <td>-19.025862</td>\n",
       "      <td>-19.500</td>\n",
       "      <td>8.598522</td>\n",
       "      <td>1988</td>\n",
       "      <td>02</td>\n",
       "    </tr>\n",
       "    <tr>\n",
       "      <th>03-1988</th>\n",
       "      <td>03-1988</td>\n",
       "      <td>-8.258065</td>\n",
       "      <td>-9.250</td>\n",
       "      <td>5.341459</td>\n",
       "      <td>1988</td>\n",
       "      <td>03</td>\n",
       "    </tr>\n",
       "    <tr>\n",
       "      <th>04-1988</th>\n",
       "      <td>04-1988</td>\n",
       "      <td>2.641667</td>\n",
       "      <td>1.875</td>\n",
       "      <td>5.057720</td>\n",
       "      <td>1988</td>\n",
       "      <td>04</td>\n",
       "    </tr>\n",
       "    <tr>\n",
       "      <th>05-1988</th>\n",
       "      <td>05-1988</td>\n",
       "      <td>11.290323</td>\n",
       "      <td>11.000</td>\n",
       "      <td>6.254364</td>\n",
       "      <td>1988</td>\n",
       "      <td>05</td>\n",
       "    </tr>\n",
       "    <tr>\n",
       "      <th>06-1988</th>\n",
       "      <td>06-1988</td>\n",
       "      <td>19.291667</td>\n",
       "      <td>19.000</td>\n",
       "      <td>3.909032</td>\n",
       "      <td>1988</td>\n",
       "      <td>06</td>\n",
       "    </tr>\n",
       "    <tr>\n",
       "      <th>07-1988</th>\n",
       "      <td>07-1988</td>\n",
       "      <td>19.048387</td>\n",
       "      <td>18.500</td>\n",
       "      <td>3.073692</td>\n",
       "      <td>1988</td>\n",
       "      <td>07</td>\n",
       "    </tr>\n",
       "    <tr>\n",
       "      <th>08-1988</th>\n",
       "      <td>08-1988</td>\n",
       "      <td>17.379032</td>\n",
       "      <td>18.000</td>\n",
       "      <td>3.183205</td>\n",
       "      <td>1988</td>\n",
       "      <td>08</td>\n",
       "    </tr>\n",
       "    <tr>\n",
       "      <th>09-1988</th>\n",
       "      <td>09-1988</td>\n",
       "      <td>10.675000</td>\n",
       "      <td>10.750</td>\n",
       "      <td>3.880294</td>\n",
       "      <td>1988</td>\n",
       "      <td>09</td>\n",
       "    </tr>\n",
       "    <tr>\n",
       "      <th>10-1988</th>\n",
       "      <td>10-1988</td>\n",
       "      <td>2.467742</td>\n",
       "      <td>3.000</td>\n",
       "      <td>6.697245</td>\n",
       "      <td>1988</td>\n",
       "      <td>10</td>\n",
       "    </tr>\n",
       "  </tbody>\n",
       "</table>\n",
       "</div>"
      ],
      "text/plain": [
       "           Month_Year       mean  median       std  Year Month\n",
       "Month_Year                                                    \n",
       "01-1988       01-1988 -22.137097 -23.000  5.260640  1988    01\n",
       "02-1988       02-1988 -19.025862 -19.500  8.598522  1988    02\n",
       "03-1988       03-1988  -8.258065  -9.250  5.341459  1988    03\n",
       "04-1988       04-1988   2.641667   1.875  5.057720  1988    04\n",
       "05-1988       05-1988  11.290323  11.000  6.254364  1988    05\n",
       "06-1988       06-1988  19.291667  19.000  3.909032  1988    06\n",
       "07-1988       07-1988  19.048387  18.500  3.073692  1988    07\n",
       "08-1988       08-1988  17.379032  18.000  3.183205  1988    08\n",
       "09-1988       09-1988  10.675000  10.750  3.880294  1988    09\n",
       "10-1988       10-1988   2.467742   3.000  6.697245  1988    10"
      ]
     },
     "execution_count": 46,
     "metadata": {},
     "output_type": "execute_result"
    }
   ],
   "source": [
    "monthly_stats.head(10)"
   ]
  },
  {
   "cell_type": "code",
   "execution_count": 47,
   "metadata": {
    "collapsed": false,
    "deletable": true,
    "editable": true
   },
   "outputs": [
    {
     "data": {
      "image/png": "[encoded data removed]",
      "text/plain": [
       "<matplotlib.figure.Figure at 0x7f87903eed68>"
      ]
     },
     "metadata": {},
     "output_type": "display_data"
    }
   ],
   "source": [
    "#Plot original time series and daily mean\n",
    "fig = plt.figure(figsize=(5.5, 5.5))\n",
    "ax = fig.add_subplot(1,1,1)\n",
    "\n",
    "monthly_stats['mean'].plot(ax=ax, color='b')\n",
    "monthly_stats['std'].plot(ax=ax, color='r')\n",
    "\n",
    "ax.set_title('Monthly statistics: Mean (blue) & Std. Dev. (red)')\n",
    "\n",
    "plt.savefig('B07887_02_04.png', format='png', dpi=300)"
   ]
  },
  {
   "cell_type": "markdown",
   "metadata": {
    "deletable": true,
    "editable": true
   },
   "source": [
    "## Moving statistics"
   ]
  },
  {
   "cell_type": "code",
   "execution_count": 49,
   "metadata": {
    "collapsed": true,
    "deletable": true,
    "editable": true
   },
   "outputs": [],
   "source": [
    "#Now we will calculate weekly moving average on the original time series of mean daily temparature\n",
    "weekly_moving_average = df['Mean temparature'].rolling(7).mean()"
   ]
  },
  {
   "cell_type": "code",
   "execution_count": 50,
   "metadata": {
    "collapsed": false,
    "deletable": true,
    "editable": true
   },
   "outputs": [
    {
     "data": {
      "text/plain": [
       "Date\n",
       "1988-01-01          NaN\n",
       "1988-01-02          NaN\n",
       "1988-01-03          NaN\n",
       "1988-01-04          NaN\n",
       "1988-01-05          NaN\n",
       "1988-01-06          NaN\n",
       "1988-01-07   -25.821429\n",
       "1988-01-08   -26.321429\n",
       "1988-01-09   -26.678571\n",
       "1988-01-10   -26.892857\n",
       "1988-01-11   -26.392857\n",
       "1988-01-12   -25.750000\n",
       "1988-01-13   -25.892857\n",
       "1988-01-14   -25.607143\n",
       "1988-01-15   -23.571429\n",
       "1988-01-16   -21.892857\n",
       "1988-01-17   -21.035714\n",
       "1988-01-18   -19.750000\n",
       "1988-01-19   -18.178571\n",
       "1988-01-20   -16.892857\n",
       "1988-01-21   -15.571429\n",
       "1988-01-22   -16.821429\n",
       "1988-01-23   -18.214286\n",
       "1988-01-24   -18.571429\n",
       "1988-01-25   -20.000000\n",
       "1988-01-26   -21.571429\n",
       "1988-01-27   -22.142857\n",
       "1988-01-28   -22.750000\n",
       "1988-01-29   -21.678571\n",
       "1988-01-30   -21.392857\n",
       "                ...    \n",
       "1991-12-02   -18.085714\n",
       "1991-12-03   -19.657143\n",
       "1991-12-04   -21.842857\n",
       "1991-12-05   -24.157143\n",
       "1991-12-06   -25.900000\n",
       "1991-12-07   -26.185714\n",
       "1991-12-08   -24.900000\n",
       "1991-12-09   -22.471429\n",
       "1991-12-10   -19.757143\n",
       "1991-12-11   -16.071429\n",
       "1991-12-12   -12.900000\n",
       "1991-12-13   -12.542857\n",
       "1991-12-14   -12.900000\n",
       "1991-12-15   -13.757143\n",
       "1991-12-16   -14.614286\n",
       "1991-12-17   -16.471429\n",
       "1991-12-18   -19.157143\n",
       "1991-12-19   -20.328571\n",
       "1991-12-20   -18.514286\n",
       "1991-12-21   -15.871429\n",
       "1991-12-22   -12.800000\n",
       "1991-12-23   -11.942857\n",
       "1991-12-24   -10.300000\n",
       "1991-12-25    -7.971429\n",
       "1991-12-26    -8.185714\n",
       "1991-12-27    -8.900000\n",
       "1991-12-28    -9.157143\n",
       "1991-12-29    -9.585714\n",
       "1991-12-30    -8.485714\n",
       "1991-12-31    -7.342857\n",
       "Name: Mean temparature, Length: 1461, dtype: float64"
      ]
     },
     "execution_count": 50,
     "metadata": {},
     "output_type": "execute_result"
    }
   ],
   "source": [
    "weekly_moving_average"
   ]
  },
  {
   "cell_type": "code",
   "execution_count": 51,
   "metadata": {
    "collapsed": true,
    "deletable": true,
    "editable": true
   },
   "outputs": [],
   "source": [
    "#Now we will calculate monthly moving average on the original time series of mean daily temparature\n",
    "monthly_moving_average = df['Mean temparature'].rolling(30).mean()"
   ]
  },
  {
   "cell_type": "code",
   "execution_count": 52,
   "metadata": {
    "collapsed": false,
    "deletable": true,
    "editable": true
   },
   "outputs": [
    {
     "data": {
      "text/plain": [
       "Date\n",
       "1988-01-01          NaN\n",
       "1988-01-02          NaN\n",
       "1988-01-03          NaN\n",
       "1988-01-04          NaN\n",
       "1988-01-05          NaN\n",
       "1988-01-06          NaN\n",
       "1988-01-07          NaN\n",
       "1988-01-08          NaN\n",
       "1988-01-09          NaN\n",
       "1988-01-10          NaN\n",
       "1988-01-11          NaN\n",
       "1988-01-12          NaN\n",
       "1988-01-13          NaN\n",
       "1988-01-14          NaN\n",
       "1988-01-15          NaN\n",
       "1988-01-16          NaN\n",
       "1988-01-17          NaN\n",
       "1988-01-18          NaN\n",
       "1988-01-19          NaN\n",
       "1988-01-20          NaN\n",
       "1988-01-21          NaN\n",
       "1988-01-22          NaN\n",
       "1988-01-23          NaN\n",
       "1988-01-24          NaN\n",
       "1988-01-25          NaN\n",
       "1988-01-26          NaN\n",
       "1988-01-27          NaN\n",
       "1988-01-28          NaN\n",
       "1988-01-29          NaN\n",
       "1988-01-30   -22.025000\n",
       "                ...    \n",
       "1991-12-02   -12.060000\n",
       "1991-12-03   -12.476667\n",
       "1991-12-04   -12.876667\n",
       "1991-12-05   -13.176667\n",
       "1991-12-06   -13.393333\n",
       "1991-12-07   -13.633333\n",
       "1991-12-08   -13.933333\n",
       "1991-12-09   -13.983333\n",
       "1991-12-10   -13.723333\n",
       "1991-12-11   -13.523333\n",
       "1991-12-12   -13.666667\n",
       "1991-12-13   -14.383333\n",
       "1991-12-14   -15.100000\n",
       "1991-12-15   -15.733333\n",
       "1991-12-16   -16.216667\n",
       "1991-12-17   -16.883333\n",
       "1991-12-18   -17.660000\n",
       "1991-12-19   -17.960000\n",
       "1991-12-20   -17.853333\n",
       "1991-12-21   -17.636667\n",
       "1991-12-22   -17.193333\n",
       "1991-12-23   -16.926667\n",
       "1991-12-24   -16.610000\n",
       "1991-12-25   -16.193333\n",
       "1991-12-26   -16.143333\n",
       "1991-12-27   -16.086667\n",
       "1991-12-28   -15.953333\n",
       "1991-12-29   -15.776667\n",
       "1991-12-30   -15.270000\n",
       "1991-12-31   -14.420000\n",
       "Name: Mean temparature, Length: 1461, dtype: float64"
      ]
     },
     "execution_count": 52,
     "metadata": {},
     "output_type": "execute_result"
    }
   ],
   "source": [
    "monthly_moving_average"
   ]
  },
  {
   "cell_type": "code",
   "execution_count": 53,
   "metadata": {
    "collapsed": true,
    "deletable": true,
    "editable": true
   },
   "outputs": [],
   "source": [
    "#Let's caluclate the weekly and monthly avergaes with a stride of length 2\n",
    "weekly_moving_average_2stride = df['Mean temparature'].rolling(7).mean()[::2]\n",
    "monthly_moving_average_2stride = df['Mean temparature'].rolling(30).mean()[::2]"
   ]
  },
  {
   "cell_type": "code",
   "execution_count": 54,
   "metadata": {
    "collapsed": false,
    "deletable": true,
    "editable": true
   },
   "outputs": [
    {
     "data": {
      "text/plain": [
       "Date\n",
       "1988-01-01          NaN\n",
       "1988-01-03          NaN\n",
       "1988-01-05          NaN\n",
       "1988-01-07   -25.821429\n",
       "1988-01-09   -26.678571\n",
       "1988-01-11   -26.392857\n",
       "1988-01-13   -25.892857\n",
       "1988-01-15   -23.571429\n",
       "1988-01-17   -21.035714\n",
       "1988-01-19   -18.178571\n",
       "1988-01-21   -15.571429\n",
       "1988-01-23   -18.214286\n",
       "1988-01-25   -20.000000\n",
       "1988-01-27   -22.142857\n",
       "1988-01-29   -21.678571\n",
       "1988-01-31   -22.178571\n",
       "1988-02-02   -22.678571\n",
       "1988-02-04   -24.928571\n",
       "1988-02-06   -28.071429\n",
       "1988-02-08   -27.107143\n",
       "1988-02-10   -27.071429\n",
       "1988-02-12   -25.607143\n",
       "1988-02-14   -23.321429\n",
       "1988-02-16   -21.714286\n",
       "1988-02-18   -16.428571\n",
       "1988-02-20   -15.178571\n",
       "1988-02-22   -13.678571\n",
       "1988-02-24   -14.428571\n",
       "1988-02-26   -15.821429\n",
       "1988-02-28   -11.392857\n",
       "                ...    \n",
       "1991-11-03    -9.900000\n",
       "1991-11-05   -14.371429\n",
       "1991-11-07   -15.085714\n",
       "1991-11-09   -14.228571\n",
       "1991-11-11   -13.300000\n",
       "1991-11-13    -8.300000\n",
       "1991-11-15    -6.042857\n",
       "1991-11-17    -2.928571\n",
       "1991-11-19    -1.928571\n",
       "1991-11-21    -5.000000\n",
       "1991-11-23    -8.900000\n",
       "1991-11-25   -14.257143\n",
       "1991-11-27   -16.471429\n",
       "1991-11-29   -15.657143\n",
       "1991-12-01   -16.728571\n",
       "1991-12-03   -19.657143\n",
       "1991-12-05   -24.157143\n",
       "1991-12-07   -26.185714\n",
       "1991-12-09   -22.471429\n",
       "1991-12-11   -16.071429\n",
       "1991-12-13   -12.542857\n",
       "1991-12-15   -13.757143\n",
       "1991-12-17   -16.471429\n",
       "1991-12-19   -20.328571\n",
       "1991-12-21   -15.871429\n",
       "1991-12-23   -11.942857\n",
       "1991-12-25    -7.971429\n",
       "1991-12-27    -8.900000\n",
       "1991-12-29    -9.585714\n",
       "1991-12-31    -7.342857\n",
       "Name: Mean temparature, Length: 731, dtype: float64"
      ]
     },
     "execution_count": 54,
     "metadata": {},
     "output_type": "execute_result"
    }
   ],
   "source": [
    "weekly_moving_average_2stride"
   ]
  },
  {
   "cell_type": "code",
   "execution_count": 55,
   "metadata": {
    "collapsed": false,
    "deletable": true,
    "editable": true
   },
   "outputs": [
    {
     "data": {
      "text/plain": [
       "Date\n",
       "1988-01-01          NaN\n",
       "1988-01-03          NaN\n",
       "1988-01-05          NaN\n",
       "1988-01-07          NaN\n",
       "1988-01-09          NaN\n",
       "1988-01-11          NaN\n",
       "1988-01-13          NaN\n",
       "1988-01-15          NaN\n",
       "1988-01-17          NaN\n",
       "1988-01-19          NaN\n",
       "1988-01-21          NaN\n",
       "1988-01-23          NaN\n",
       "1988-01-25          NaN\n",
       "1988-01-27          NaN\n",
       "1988-01-29          NaN\n",
       "1988-01-31   -22.108333\n",
       "1988-02-02   -22.625000\n",
       "1988-02-04   -22.525000\n",
       "1988-02-06   -22.550000\n",
       "1988-02-08   -22.525000\n",
       "1988-02-10   -22.716667\n",
       "1988-02-12   -22.475000\n",
       "1988-02-14   -22.425000\n",
       "1988-02-16   -22.833333\n",
       "1988-02-18   -22.325000\n",
       "1988-02-20   -22.091667\n",
       "1988-02-22   -21.725000\n",
       "1988-02-24   -21.341667\n",
       "1988-02-26   -20.383333\n",
       "1988-02-28   -19.441667\n",
       "                ...    \n",
       "1991-11-03    -1.956667\n",
       "1991-11-05    -3.350000\n",
       "1991-11-07    -4.886667\n",
       "1991-11-09    -5.980000\n",
       "1991-11-11    -7.073333\n",
       "1991-11-13    -7.173333\n",
       "1991-11-15    -7.350000\n",
       "1991-11-17    -7.366667\n",
       "1991-11-19    -7.040000\n",
       "1991-11-21    -7.640000\n",
       "1991-11-23    -8.550000\n",
       "1991-11-25    -9.550000\n",
       "1991-11-27   -10.700000\n",
       "1991-11-29   -10.853333\n",
       "1991-12-01   -11.560000\n",
       "1991-12-03   -12.476667\n",
       "1991-12-05   -13.176667\n",
       "1991-12-07   -13.633333\n",
       "1991-12-09   -13.983333\n",
       "1991-12-11   -13.523333\n",
       "1991-12-13   -14.383333\n",
       "1991-12-15   -15.733333\n",
       "1991-12-17   -16.883333\n",
       "1991-12-19   -17.960000\n",
       "1991-12-21   -17.636667\n",
       "1991-12-23   -16.926667\n",
       "1991-12-25   -16.193333\n",
       "1991-12-27   -16.086667\n",
       "1991-12-29   -15.776667\n",
       "1991-12-31   -14.420000\n",
       "Name: Mean temparature, Length: 731, dtype: float64"
      ]
     },
     "execution_count": 55,
     "metadata": {},
     "output_type": "execute_result"
    }
   ],
   "source": [
    "monthly_moving_average_2stride"
   ]
  },
  {
   "cell_type": "code",
   "execution_count": 56,
   "metadata": {
    "collapsed": false,
    "deletable": true,
    "editable": true
   },
   "outputs": [
    {
     "data": {
      "image/png": "[encoded data removed]",
      "text/plain": [
       "<matplotlib.figure.Figure at 0x7f87901ec6d8>"
      ]
     },
     "metadata": {},
     "output_type": "display_data"
    }
   ],
   "source": [
    "#Plot original time series and weekly moving average\n",
    "fig, axarr = plt.subplots(3, sharex=True)\n",
    "fig.set_size_inches(5.5, 5,5)\n",
    "\n",
    "df['Mean temparature'].plot(ax=axarr[0], color='b')\n",
    "axarr[0].set_title('Daily mean temparature')\n",
    "\n",
    "weekly_moving_average.plot(ax=axarr[1], color='r')\n",
    "axarr[1].set_title('Weekly moving average')\n",
    "\n",
    "monthly_moving_average.plot(ax=axarr[2], color='g')\n",
    "axarr[2].set_title('Monthly moving average')\n",
    "\n",
    "plt.savefig('B07887_02_05.png', format='png', dpi=300)"
   ]
  },
  {
   "cell_type": "markdown",
   "metadata": {
    "deletable": true,
    "editable": true
   },
   "source": [
    "# Stationary processes\n",
    "* Differencing\n",
    "    - First-order differencing \n",
    "    - Second-order differencing\n",
    "    - Seasonal differencing\n",
    "* Augmented Dickey-Fuller test "
   ]
  },
  {
   "cell_type": "markdown",
   "metadata": {},
   "source": [
    "<img src=\"figures/cap06.png\" width=600 />"
   ]
  },
  {
   "cell_type": "markdown",
   "metadata": {
    "deletable": true,
    "editable": true
   },
   "source": [
    "## Differencing\n",
    "* First-order differencing \n",
    "* Second-order differencing\n",
    "* Seasonal differencing"
   ]
  },
  {
   "cell_type": "markdown",
   "metadata": {
    "deletable": true,
    "editable": true
   },
   "source": [
    "## First-order differencing "
   ]
  },
  {
   "cell_type": "markdown",
   "metadata": {
    "deletable": true,
    "editable": true
   },
   "source": [
    "## Second-order differencing"
   ]
  },
  {
   "cell_type": "markdown",
   "metadata": {
    "deletable": true,
    "editable": true
   },
   "source": [
    "## Seasonal differencing"
   ]
  },
  {
   "cell_type": "markdown",
   "metadata": {
    "deletable": true,
    "editable": true
   },
   "source": [
    "## Augmented Dickey-Fuller test "
   ]
  },
  {
   "cell_type": "markdown",
   "metadata": {
    "collapsed": true,
    "deletable": true,
    "editable": true
   },
   "source": [
    "# Time series decomposition\n",
    "* Moving averages\n",
    "    - Moving averages and their smoothing effect \n",
    "    - Seasonal adjustment using moving average\n",
    "    - Weighted moving average "
   ]
  },
  {
   "cell_type": "markdown",
   "metadata": {
    "deletable": true,
    "editable": true
   },
   "source": [
    "## Moving averages"
   ]
  },
  {
   "cell_type": "markdown",
   "metadata": {
    "deletable": true,
    "editable": true
   },
   "source": [
    "### Moving averages and their smoothing effect "
   ]
  },
  {
   "cell_type": "markdown",
   "metadata": {
    "deletable": true,
    "editable": true
   },
   "source": [
    "### Seasonal adjustment using moving average"
   ]
  },
  {
   "cell_type": "markdown",
   "metadata": {
    "deletable": true,
    "editable": true
   },
   "source": [
    "### Weighted moving average "
   ]
  },
  {
   "cell_type": "markdown",
   "metadata": {
    "deletable": true,
    "editable": true
   },
   "source": [
    "# Time series decomposition using moving averages "
   ]
  },
  {
   "cell_type": "markdown",
   "metadata": {
    "deletable": true,
    "editable": true
   },
   "source": [
    "# Time series decomposition using statsmodels.tsa "
   ]
  },
  {
   "cell_type": "markdown",
   "metadata": {
    "deletable": true,
    "editable": true
   },
   "source": [
    "# Summary"
   ]
  },
  {
   "cell_type": "markdown",
   "metadata": {
    "deletable": true,
    "editable": true
   },
   "source": [
    "-----------------------"
   ]
  },
  {
   "cell_type": "markdown",
   "metadata": {
    "deletable": true,
    "editable": true
   },
   "source": [
    "# 참고자료\n",
    "* [1] book : Practical Time Series Analysis - https://www.packtpub.com/big-data-and-business-intelligence/practical-time-series-analysis\n",
    "* [2] book github code - https://github.com/PacktPublishing/Practical-Time-Series-Analysis\n",
    "* [3] git submodule 관련 - https://git-scm.com/book/ko/v1/Git-도구-서브모듈\n",
    "* [4] seaborn으로 그래프 생성하다 에러 날 경우 - https://github.com/mwaskom/seaborn/issues/1103"
   ]
  },
  {
   "cell_type": "code",
   "execution_count": null,
   "metadata": {
    "collapsed": true,
    "deletable": true,
    "editable": true
   },
   "outputs": [],
   "source": []
  }
 ],
 "metadata": {
  "kernelspec": {
   "display_name": "Python 3",
   "language": "python",
   "name": "python3"
  },
  "language_info": {
   "codemirror_mode": {
    "name": "ipython",
    "version": 3
   },
   "file_extension": ".py",
   "mimetype": "text/x-python",
   "name": "python",
   "nbconvert_exporter": "python",
   "pygments_lexer": "ipython3",
   "version": "3.5.2"
  }
 },
 "nbformat": 4,
 "nbformat_minor": 2
}
